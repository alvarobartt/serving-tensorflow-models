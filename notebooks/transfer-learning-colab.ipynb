{
  "nbformat": 4,
  "nbformat_minor": 0,
  "metadata": {
    "kernelspec": {
      "display_name": "Python 3",
      "language": "python",
      "name": "python3"
    },
    "language_info": {
      "codemirror_mode": {
        "name": "ipython",
        "version": 3
      },
      "file_extension": ".py",
      "mimetype": "text/x-python",
      "name": "python",
      "nbconvert_exporter": "python",
      "pygments_lexer": "ipython3",
      "version": "3.8.5"
    },
    "colab": {
      "name": "transfer-learning.ipynb",
      "provenance": [],
      "toc_visible": true
    },
    "accelerator": "GPU"
  },
  "cells": [
    {
      "cell_type": "code",
      "metadata": {
        "id": "8E4YuZnuCPLw"
      },
      "source": [
        "!rm -r /content/train\n",
        "!rm -r /content/test"
      ],
      "execution_count": 1,
      "outputs": []
    },
    {
      "cell_type": "code",
      "metadata": {
        "id": "vGVZBUeQqKA9",
        "outputId": "ea8c1078-54e8-4455-bbca-ffb440b3f22f",
        "colab": {
          "base_uri": "https://localhost:8080/"
        }
      },
      "source": [
        "from google.colab import drive\n",
        "drive.mount('/content/drive')"
      ],
      "execution_count": 34,
      "outputs": [
        {
          "output_type": "stream",
          "text": [
            "Mounted at /content/drive\n"
          ],
          "name": "stdout"
        }
      ]
    },
    {
      "cell_type": "code",
      "metadata": {
        "colab": {
          "base_uri": "https://localhost:8080/"
        },
        "id": "bIAqW9-4DNaB",
        "outputId": "bbb856ae-aafd-428b-9880-dcdc23986147"
      },
      "source": [
        "!wget --no-check-certificate \\\n",
        "        https://www.dropbox.com/s/8u2k79tuqmwrwi8/train.zip \\\n",
        "       -O /tmp/train.zip"
      ],
      "execution_count": 2,
      "outputs": [
        {
          "output_type": "stream",
          "text": [
            "--2021-02-13 12:49:49--  https://www.dropbox.com/s/8u2k79tuqmwrwi8/train.zip\n",
            "Resolving www.dropbox.com (www.dropbox.com)... 162.125.1.18, 2620:100:6016:18::a27d:112\n",
            "Connecting to www.dropbox.com (www.dropbox.com)|162.125.1.18|:443... connected.\n",
            "HTTP request sent, awaiting response... 301 Moved Permanently\n",
            "Location: /s/raw/8u2k79tuqmwrwi8/train.zip [following]\n",
            "--2021-02-13 12:49:49--  https://www.dropbox.com/s/raw/8u2k79tuqmwrwi8/train.zip\n",
            "Reusing existing connection to www.dropbox.com:443.\n",
            "HTTP request sent, awaiting response... 302 Found\n",
            "Location: https://ucbeae956d4f602b1f3aeac1451f.dl.dropboxusercontent.com/cd/0/inline/BI1zcs0WM8TRjleL1p0nWh7i5qqVF-FlZ6xE6OzYObotQYQZUXh2OTpfRsawRcZACim2lk4JBJT_LRhAUXwEVr3BW_iAuEeWv-KZQAgSRvEp5mW2Mhwf1vdE_fiuTQ7YvMg/file# [following]\n",
            "--2021-02-13 12:49:50--  https://ucbeae956d4f602b1f3aeac1451f.dl.dropboxusercontent.com/cd/0/inline/BI1zcs0WM8TRjleL1p0nWh7i5qqVF-FlZ6xE6OzYObotQYQZUXh2OTpfRsawRcZACim2lk4JBJT_LRhAUXwEVr3BW_iAuEeWv-KZQAgSRvEp5mW2Mhwf1vdE_fiuTQ7YvMg/file\n",
            "Resolving ucbeae956d4f602b1f3aeac1451f.dl.dropboxusercontent.com (ucbeae956d4f602b1f3aeac1451f.dl.dropboxusercontent.com)... 162.125.1.15, 2620:100:6016:15::a27d:10f\n",
            "Connecting to ucbeae956d4f602b1f3aeac1451f.dl.dropboxusercontent.com (ucbeae956d4f602b1f3aeac1451f.dl.dropboxusercontent.com)|162.125.1.15|:443... connected.\n",
            "HTTP request sent, awaiting response... 302 Found\n",
            "Location: /cd/0/inline2/BI1CeHK3RhFxgz8bxH2wQsDqR9jmAtYg2gSgZ34NqRGQ2XcBAKGGds956a1iU6UkHFHzuXVp1YktDpLVe4uDsTQdCG9VaAG_HM8kF0wQc5qIAMMNmcDbB2SSItqPebRQm0SLo0vZNbke-hTjM_ItLYwX3udJotx17Pk133LIAfW_3w41-zXk3kR9kmG_QwBBVLqoFLVCNQSjqWd4iW3KEqlr2TdigFfz-tm-RkCq2TREU7SOoALpxO_6Couz2mV81u2s9CxZ-W381OQ_NyA4cBZKjaou7NtFeBpOfyeafLj5gwZOpG38aXgMb5I5T8vRAWV66MRnd0IalQjWqrpWgwdnvRP5kSQFifBAHgA9HlNNvw/file [following]\n",
            "--2021-02-13 12:49:50--  https://ucbeae956d4f602b1f3aeac1451f.dl.dropboxusercontent.com/cd/0/inline2/BI1CeHK3RhFxgz8bxH2wQsDqR9jmAtYg2gSgZ34NqRGQ2XcBAKGGds956a1iU6UkHFHzuXVp1YktDpLVe4uDsTQdCG9VaAG_HM8kF0wQc5qIAMMNmcDbB2SSItqPebRQm0SLo0vZNbke-hTjM_ItLYwX3udJotx17Pk133LIAfW_3w41-zXk3kR9kmG_QwBBVLqoFLVCNQSjqWd4iW3KEqlr2TdigFfz-tm-RkCq2TREU7SOoALpxO_6Couz2mV81u2s9CxZ-W381OQ_NyA4cBZKjaou7NtFeBpOfyeafLj5gwZOpG38aXgMb5I5T8vRAWV66MRnd0IalQjWqrpWgwdnvRP5kSQFifBAHgA9HlNNvw/file\n",
            "Reusing existing connection to ucbeae956d4f602b1f3aeac1451f.dl.dropboxusercontent.com:443.\n",
            "HTTP request sent, awaiting response... 200 OK\n",
            "Length: 421298759 (402M) [application/zip]\n",
            "Saving to: ‘/tmp/train.zip’\n",
            "\n",
            "/tmp/train.zip      100%[===================>] 401.78M  90.2MB/s    in 4.8s    \n",
            "\n",
            "2021-02-13 12:49:56 (83.7 MB/s) - ‘/tmp/train.zip’ saved [421298759/421298759]\n",
            "\n"
          ],
          "name": "stdout"
        }
      ]
    },
    {
      "cell_type": "code",
      "metadata": {
        "colab": {
          "base_uri": "https://localhost:8080/"
        },
        "id": "xpA1ftOPDRsj",
        "outputId": "b361f4ef-a29f-4eac-9acb-74f2358c1d55"
      },
      "source": [
        "!wget --no-check-certificate \\\n",
        "        https://www.dropbox.com/s/pnipjr7brjz1pm5/test.zip \\\n",
        "       -O /tmp/test.zip"
      ],
      "execution_count": 3,
      "outputs": [
        {
          "output_type": "stream",
          "text": [
            "--2021-02-13 12:49:56--  https://www.dropbox.com/s/pnipjr7brjz1pm5/test.zip\n",
            "Resolving www.dropbox.com (www.dropbox.com)... 162.125.1.18, 2620:100:6016:18::a27d:112\n",
            "Connecting to www.dropbox.com (www.dropbox.com)|162.125.1.18|:443... connected.\n",
            "HTTP request sent, awaiting response... 301 Moved Permanently\n",
            "Location: /s/raw/pnipjr7brjz1pm5/test.zip [following]\n",
            "--2021-02-13 12:49:56--  https://www.dropbox.com/s/raw/pnipjr7brjz1pm5/test.zip\n",
            "Reusing existing connection to www.dropbox.com:443.\n",
            "HTTP request sent, awaiting response... 302 Found\n",
            "Location: https://ucb2bcd24eb0a33f9cc91a7b488c.dl.dropboxusercontent.com/cd/0/inline/BI0nkVymd-sOUsuOBxkyLB8UjqMIIf3VgqzGJJI4jK6C1_IaANn03kkM7y5Gxg2nPBoZFxqSoGxFyqQxKFFvzgnM54uBb35bxAM1VBjIzmM5zG_oPWDkfY885T1EhMqWWzs/file# [following]\n",
            "--2021-02-13 12:49:56--  https://ucb2bcd24eb0a33f9cc91a7b488c.dl.dropboxusercontent.com/cd/0/inline/BI0nkVymd-sOUsuOBxkyLB8UjqMIIf3VgqzGJJI4jK6C1_IaANn03kkM7y5Gxg2nPBoZFxqSoGxFyqQxKFFvzgnM54uBb35bxAM1VBjIzmM5zG_oPWDkfY885T1EhMqWWzs/file\n",
            "Resolving ucb2bcd24eb0a33f9cc91a7b488c.dl.dropboxusercontent.com (ucb2bcd24eb0a33f9cc91a7b488c.dl.dropboxusercontent.com)... 162.125.1.15, 2620:100:6016:15::a27d:10f\n",
            "Connecting to ucb2bcd24eb0a33f9cc91a7b488c.dl.dropboxusercontent.com (ucb2bcd24eb0a33f9cc91a7b488c.dl.dropboxusercontent.com)|162.125.1.15|:443... connected.\n",
            "HTTP request sent, awaiting response... 302 Found\n",
            "Location: /cd/0/inline2/BI16pbFh9P53fl12tlmudLL3YvDBMPhGgzk1SiqxM14yqkh-QU_-IqNq8ukBHdE4NUSPDv52J9aPdFXecgdANNwvWzUr3fH5fDwWORJAkcmtheWAih6-lamUtd92VH0GUwYxCfOcoIzaPXoOlf4Qi2RncAeSYzajtASezHE06ZKA3DI23y3Wkz246ZfBuuNDoZBG_Je-I9DULX7NWCqFO4IdKdM_5HKqmsg0LTUFzeoPXiN1a2DBZ8l_jwuvavR4tUbtgkm1Ew-sEHDbjl1csDJbusx-ATxgb7ZVQmuzSzTFMbAGVli3Qz__t2uGtNIpQ8ATyMmDhWUqXaduT7YvFbDkG0MAjdfzIKysRVkkYM3cWg/file [following]\n",
            "--2021-02-13 12:49:57--  https://ucb2bcd24eb0a33f9cc91a7b488c.dl.dropboxusercontent.com/cd/0/inline2/BI16pbFh9P53fl12tlmudLL3YvDBMPhGgzk1SiqxM14yqkh-QU_-IqNq8ukBHdE4NUSPDv52J9aPdFXecgdANNwvWzUr3fH5fDwWORJAkcmtheWAih6-lamUtd92VH0GUwYxCfOcoIzaPXoOlf4Qi2RncAeSYzajtASezHE06ZKA3DI23y3Wkz246ZfBuuNDoZBG_Je-I9DULX7NWCqFO4IdKdM_5HKqmsg0LTUFzeoPXiN1a2DBZ8l_jwuvavR4tUbtgkm1Ew-sEHDbjl1csDJbusx-ATxgb7ZVQmuzSzTFMbAGVli3Qz__t2uGtNIpQ8ATyMmDhWUqXaduT7YvFbDkG0MAjdfzIKysRVkkYM3cWg/file\n",
            "Reusing existing connection to ucb2bcd24eb0a33f9cc91a7b488c.dl.dropboxusercontent.com:443.\n",
            "HTTP request sent, awaiting response... 200 OK\n",
            "Length: 105479647 (101M) [application/zip]\n",
            "Saving to: ‘/tmp/test.zip’\n",
            "\n",
            "/tmp/test.zip       100%[===================>] 100.59M  83.5MB/s    in 1.2s    \n",
            "\n",
            "2021-02-13 12:49:58 (83.5 MB/s) - ‘/tmp/test.zip’ saved [105479647/105479647]\n",
            "\n"
          ],
          "name": "stdout"
        }
      ]
    },
    {
      "cell_type": "code",
      "metadata": {
        "id": "GY3rmaxXDGW-"
      },
      "source": [
        "import zipfile\n",
        "\n",
        "with zipfile.ZipFile(\"//tmp/train.zip\", \"r\") as zip_ref:\n",
        "    zip_ref.extractall(\"/content/\")\n",
        "zip_ref.close()\n",
        "\n",
        "with zipfile.ZipFile(\"//tmp/test.zip\", \"r\") as zip_ref:\n",
        "    zip_ref.extractall(\"/content/\")\n",
        "zip_ref.close()"
      ],
      "execution_count": 4,
      "outputs": []
    },
    {
      "cell_type": "code",
      "metadata": {
        "id": "UKPQcr9rAHYc"
      },
      "source": [
        "TRAIN_DIR = '/content/train'\n",
        "TEST_DIR = '/content/test'"
      ],
      "execution_count": 5,
      "outputs": []
    },
    {
      "cell_type": "code",
      "metadata": {
        "id": "wTzZ6BLHAHYf"
      },
      "source": [
        "BATCH_SIZE = 32"
      ],
      "execution_count": 19,
      "outputs": []
    },
    {
      "cell_type": "code",
      "metadata": {
        "id": "j4xo8WQ7AHYV"
      },
      "source": [
        "from tensorflow.keras.preprocessing.image import ImageDataGenerator"
      ],
      "execution_count": 20,
      "outputs": []
    },
    {
      "cell_type": "code",
      "metadata": {
        "colab": {
          "base_uri": "https://localhost:8080/"
        },
        "id": "3iMZTEGqAHYg",
        "outputId": "03b93103-70b0-4865-e863-dbb73e3736c9"
      },
      "source": [
        "train_datagen = ImageDataGenerator(rescale=1./255.,\n",
        "                                   shear_range=0.2,\n",
        "                                   zoom_range=0.2,\n",
        "                                   horizontal_flip=True,\n",
        "                                   validation_split=.2)\n",
        "\n",
        "train_generator = train_datagen.flow_from_directory(\n",
        "    directory=TRAIN_DIR, class_mode='categorical', target_size=(224, 224),\n",
        "    batch_size=BATCH_SIZE, shuffle=True, subset='training'\n",
        ")\n",
        "\n",
        "val_generator = train_datagen.flow_from_directory(\n",
        "    directory=TRAIN_DIR, class_mode='categorical', target_size=(224, 224),\n",
        "    batch_size=BATCH_SIZE, shuffle=True, subset='validation'\n",
        ")"
      ],
      "execution_count": 21,
      "outputs": [
        {
          "output_type": "stream",
          "text": [
            "Found 13210 images belonging to 32 classes.\n",
            "Found 3286 images belonging to 32 classes.\n"
          ],
          "name": "stdout"
        }
      ]
    },
    {
      "cell_type": "code",
      "metadata": {
        "colab": {
          "base_uri": "https://localhost:8080/"
        },
        "id": "jcqZ0FrVAHYk",
        "outputId": "fbaaa5a5-c8ec-493b-8468-2ffdb56a9136"
      },
      "source": [
        "test_datagen = ImageDataGenerator(rescale=1./255.)\n",
        "\n",
        "test_generator = test_datagen.flow_from_directory(\n",
        "    directory=TEST_DIR, class_mode='categorical', target_size=(224, 224),\n",
        "    batch_size=BATCH_SIZE, shuffle=True\n",
        ")"
      ],
      "execution_count": 22,
      "outputs": [
        {
          "output_type": "stream",
          "text": [
            "Found 4142 images belonging to 32 classes.\n"
          ],
          "name": "stdout"
        }
      ]
    },
    {
      "cell_type": "code",
      "metadata": {
        "id": "ROFfOk8pMV2R"
      },
      "source": [
        "MAP_CHARACTERS = {v:k for k, v in train_generator.class_indices.items()}"
      ],
      "execution_count": 23,
      "outputs": []
    },
    {
      "cell_type": "code",
      "metadata": {
        "colab": {
          "base_uri": "https://localhost:8080/",
          "height": 35
        },
        "id": "akQfu0LmAHYm",
        "outputId": "503dfd19-ee50-469d-fd2c-99e7e25a2dfa"
      },
      "source": [
        "import tensorflow as tf\n",
        "tf.__version__"
      ],
      "execution_count": 24,
      "outputs": [
        {
          "output_type": "execute_result",
          "data": {
            "application/vnd.google.colaboratory.intrinsic+json": {
              "type": "string"
            },
            "text/plain": [
              "'2.4.1'"
            ]
          },
          "metadata": {
            "tags": []
          },
          "execution_count": 24
        }
      ]
    },
    {
      "cell_type": "code",
      "metadata": {
        "id": "z0sx2mQTAHYn"
      },
      "source": [
        "tf.keras.backend.clear_session()"
      ],
      "execution_count": 25,
      "outputs": []
    },
    {
      "cell_type": "code",
      "metadata": {
        "id": "_ZnlTpoAT5Ew"
      },
      "source": [
        "model = tf.keras.models.Sequential([\n",
        "    tf.keras.layers.Conv2D(16, (3,3), activation='relu', input_shape=(224, 224, 3)),\n",
        "    tf.keras.layers.MaxPooling2D(2,2),\n",
        "    tf.keras.layers.Conv2D(32, (3,3), activation='relu'),\n",
        "    tf.keras.layers.MaxPooling2D(2,2),\n",
        "    tf.keras.layers.Flatten(),\n",
        "    tf.keras.layers.Dense(units=512, activation='relu'),\n",
        "    tf.keras.layers.Dropout(.2),\n",
        "    tf.keras.layers.Dense(units=256, activation='relu'),\n",
        "    tf.keras.layers.Dropout(.1),\n",
        "    tf.keras.layers.Dense(len(MAP_CHARACTERS), activation='softmax')\n",
        "])"
      ],
      "execution_count": 26,
      "outputs": []
    },
    {
      "cell_type": "code",
      "metadata": {
        "id": "DQ5aYZ0JAHYr"
      },
      "source": [
        "model.compile(optimizer='adam',\n",
        "              loss='categorical_crossentropy',\n",
        "              metrics=['accuracy'])"
      ],
      "execution_count": 27,
      "outputs": []
    },
    {
      "cell_type": "code",
      "metadata": {
        "colab": {
          "base_uri": "https://localhost:8080/"
        },
        "id": "2_thfNXBc1OM",
        "outputId": "a8412c74-cbd1-4660-a540-640a157ad9c1"
      },
      "source": [
        "train_generator.samples"
      ],
      "execution_count": 28,
      "outputs": [
        {
          "output_type": "execute_result",
          "data": {
            "text/plain": [
              "13210"
            ]
          },
          "metadata": {
            "tags": []
          },
          "execution_count": 28
        }
      ]
    },
    {
      "cell_type": "code",
      "metadata": {
        "colab": {
          "base_uri": "https://localhost:8080/"
        },
        "id": "tkjXwJacAHYr",
        "outputId": "c0ad267f-664c-43ed-8a52-93cca0bfa27a"
      },
      "source": [
        "model.fit(train_generator,\n",
        "          validation_data=val_generator,\n",
        "          steps_per_epoch=train_generator.samples / BATCH_SIZE,\n",
        "          epochs=15)"
      ],
      "execution_count": 30,
      "outputs": [
        {
          "output_type": "stream",
          "text": [
            "Epoch 1/15\n",
            "412/412 [==============================] - 201s 486ms/step - loss: 3.4389 - accuracy: 0.2197 - val_loss: 2.0613 - val_accuracy: 0.4306\n",
            "Epoch 2/15\n",
            "412/412 [==============================] - 199s 481ms/step - loss: 1.8379 - accuracy: 0.4837 - val_loss: 1.8510 - val_accuracy: 0.4933\n",
            "Epoch 3/15\n",
            "412/412 [==============================] - 199s 482ms/step - loss: 1.5520 - accuracy: 0.5595 - val_loss: 1.6773 - val_accuracy: 0.5514\n",
            "Epoch 4/15\n",
            "412/412 [==============================] - 199s 482ms/step - loss: 1.2953 - accuracy: 0.6358 - val_loss: 1.6433 - val_accuracy: 0.5682\n",
            "Epoch 5/15\n",
            "412/412 [==============================] - 200s 484ms/step - loss: 1.1294 - accuracy: 0.6760 - val_loss: 1.5591 - val_accuracy: 0.5749\n",
            "Epoch 6/15\n",
            "412/412 [==============================] - 200s 484ms/step - loss: 0.9837 - accuracy: 0.7156 - val_loss: 1.5159 - val_accuracy: 0.5968\n",
            "Epoch 7/15\n",
            "412/412 [==============================] - 201s 486ms/step - loss: 0.8813 - accuracy: 0.7470 - val_loss: 1.5109 - val_accuracy: 0.6013\n",
            "Epoch 8/15\n",
            "412/412 [==============================] - 200s 485ms/step - loss: 0.7969 - accuracy: 0.7682 - val_loss: 1.5516 - val_accuracy: 0.6211\n",
            "Epoch 9/15\n",
            "412/412 [==============================] - 200s 485ms/step - loss: 0.7254 - accuracy: 0.7859 - val_loss: 1.5131 - val_accuracy: 0.6281\n",
            "Epoch 10/15\n",
            "412/412 [==============================] - 201s 488ms/step - loss: 0.6589 - accuracy: 0.8063 - val_loss: 1.5240 - val_accuracy: 0.6275\n",
            "Epoch 11/15\n",
            "412/412 [==============================] - 202s 490ms/step - loss: 0.6023 - accuracy: 0.8226 - val_loss: 1.5184 - val_accuracy: 0.6257\n",
            "Epoch 12/15\n",
            "412/412 [==============================] - 202s 489ms/step - loss: 0.5785 - accuracy: 0.8253 - val_loss: 1.5605 - val_accuracy: 0.6366\n",
            "Epoch 13/15\n",
            "412/412 [==============================] - 202s 489ms/step - loss: 0.5354 - accuracy: 0.8429 - val_loss: 1.6222 - val_accuracy: 0.6333\n",
            "Epoch 14/15\n",
            "412/412 [==============================] - 201s 487ms/step - loss: 0.4847 - accuracy: 0.8514 - val_loss: 1.5456 - val_accuracy: 0.6354\n",
            "Epoch 15/15\n",
            "412/412 [==============================] - 201s 487ms/step - loss: 0.4498 - accuracy: 0.8631 - val_loss: 1.6535 - val_accuracy: 0.6236\n"
          ],
          "name": "stdout"
        },
        {
          "output_type": "execute_result",
          "data": {
            "text/plain": [
              "<tensorflow.python.keras.callbacks.History at 0x7fa16008a208>"
            ]
          },
          "metadata": {
            "tags": []
          },
          "execution_count": 30
        }
      ]
    },
    {
      "cell_type": "code",
      "metadata": {
        "colab": {
          "base_uri": "https://localhost:8080/"
        },
        "id": "w2vGHscPotG0",
        "outputId": "8b1a28be-dbf0-4c24-b187-467a4f6fb613"
      },
      "source": [
        "import os\n",
        "save_path = os.path.join(\"//content/drive/MyDrive/simpsonsnet/1/\")\n",
        "tf.saved_model.save(model, save_path)"
      ],
      "execution_count": 35,
      "outputs": [
        {
          "output_type": "stream",
          "text": [
            "INFO:tensorflow:Assets written to: //content/drive/MyDrive/simpsonsnet/1/assets\n"
          ],
          "name": "stdout"
        }
      ]
    }
  ]
}