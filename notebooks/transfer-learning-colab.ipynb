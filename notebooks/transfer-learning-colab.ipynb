{
  "nbformat": 4,
  "nbformat_minor": 0,
  "metadata": {
    "kernelspec": {
      "display_name": "Python 3",
      "language": "python",
      "name": "python3"
    },
    "language_info": {
      "codemirror_mode": {
        "name": "ipython",
        "version": 3
      },
      "file_extension": ".py",
      "mimetype": "text/x-python",
      "name": "python",
      "nbconvert_exporter": "python",
      "pygments_lexer": "ipython3",
      "version": "3.8.5"
    },
    "colab": {
      "name": "transfer-learning.ipynb",
      "provenance": []
    },
    "accelerator": "GPU"
  },
  "cells": [
    {
      "cell_type": "code",
      "metadata": {
        "id": "8E4YuZnuCPLw",
        "outputId": "3d11789f-74aa-41d4-ba04-8398de8b4b45",
        "colab": {
          "base_uri": "https://localhost:8080/"
        }
      },
      "source": [
        "!rm -r /content/train\n",
        "!rm -r /content/test"
      ],
      "execution_count": 9,
      "outputs": [
        {
          "output_type": "stream",
          "text": [
            "rm: cannot remove '/content/train': No such file or directory\n",
            "rm: cannot remove '/content/test': No such file or directory\n"
          ],
          "name": "stdout"
        }
      ]
    },
    {
      "cell_type": "code",
      "metadata": {
        "id": "vGVZBUeQqKA9",
        "colab": {
          "base_uri": "https://localhost:8080/"
        },
        "outputId": "250b9e83-cf21-46bc-920e-90724b600811"
      },
      "source": [
        "from google.colab import drive\n",
        "drive.mount('/content/drive')"
      ],
      "execution_count": 10,
      "outputs": [
        {
          "output_type": "stream",
          "text": [
            "Drive already mounted at /content/drive; to attempt to forcibly remount, call drive.mount(\"/content/drive\", force_remount=True).\n"
          ],
          "name": "stdout"
        }
      ]
    },
    {
      "cell_type": "code",
      "metadata": {
        "colab": {
          "base_uri": "https://localhost:8080/"
        },
        "id": "bIAqW9-4DNaB",
        "outputId": "26a3866b-25b0-4059-e6ba-3405f1d9f327"
      },
      "source": [
        "!wget --no-check-certificate \\\n",
        "        https://www.dropbox.com/s/8u2k79tuqmwrwi8/train.zip \\\n",
        "       -O /tmp/train.zip"
      ],
      "execution_count": 11,
      "outputs": [
        {
          "output_type": "stream",
          "text": [
            "--2021-02-14 13:04:45--  https://www.dropbox.com/s/8u2k79tuqmwrwi8/train.zip\n",
            "Resolving www.dropbox.com (www.dropbox.com)... 162.125.6.18, 2620:100:6019:18::a27d:412\n",
            "Connecting to www.dropbox.com (www.dropbox.com)|162.125.6.18|:443... connected.\n",
            "HTTP request sent, awaiting response... 301 Moved Permanently\n",
            "Location: /s/raw/8u2k79tuqmwrwi8/train.zip [following]\n",
            "--2021-02-14 13:04:45--  https://www.dropbox.com/s/raw/8u2k79tuqmwrwi8/train.zip\n",
            "Reusing existing connection to www.dropbox.com:443.\n",
            "HTTP request sent, awaiting response... 302 Found\n",
            "Location: https://uc533ceeae4131262cb5c7c764c3.dl.dropboxusercontent.com/cd/0/inline/BI6UPqLE8uGFBXhMarRkJ30q8JWz3YEmRNRgGnUzPUovF_sC6LXoN76ffUADpIY9Pm25oVcWZ2XL7zdjBF4MTeNmQ6xkebRLnLBW_VOislTKtW3XgQyPYlPGlRAp9Sj1ssc/file# [following]\n",
            "--2021-02-14 13:04:46--  https://uc533ceeae4131262cb5c7c764c3.dl.dropboxusercontent.com/cd/0/inline/BI6UPqLE8uGFBXhMarRkJ30q8JWz3YEmRNRgGnUzPUovF_sC6LXoN76ffUADpIY9Pm25oVcWZ2XL7zdjBF4MTeNmQ6xkebRLnLBW_VOislTKtW3XgQyPYlPGlRAp9Sj1ssc/file\n",
            "Resolving uc533ceeae4131262cb5c7c764c3.dl.dropboxusercontent.com (uc533ceeae4131262cb5c7c764c3.dl.dropboxusercontent.com)... 162.125.6.15, 2620:100:601c:15::a27d:60f\n",
            "Connecting to uc533ceeae4131262cb5c7c764c3.dl.dropboxusercontent.com (uc533ceeae4131262cb5c7c764c3.dl.dropboxusercontent.com)|162.125.6.15|:443... connected.\n",
            "HTTP request sent, awaiting response... 302 Found\n",
            "Location: /cd/0/inline2/BI6QK34xHy3DlqSwtRLr-Cr83HMMaz_Ojv5MkgUwBGbI-fzBPIjqzzgF8tlNjW3h3R-Lh3NV0iFnfZWorPLNDCjSrBFlxuDS-AkniRzjm3TL8oT2CZfdjv7F_9sAAlidfJn2K-5AAkSMSQhjIN3xP7BMdPpK-HEIoGAdI3K5_S-pBLe0rk-NJaEYswtTcCeuVVnIXwkNafIH4DKT1xhhpCRm4MwpM-_HQkI54dD0ewl4fQwGyd_N-HQ2957JkQi0RpTD8Uo87V9F0_RDtEqGTSRe3WiRzMmL7Xkjf8SQn-NO3GhBrWlS8O-qzIOTke0QWB3eoz4UzOaGpYabYHcfAAQm6w6lwRPalAsda6ffQeU9NQ/file [following]\n",
            "--2021-02-14 13:04:47--  https://uc533ceeae4131262cb5c7c764c3.dl.dropboxusercontent.com/cd/0/inline2/BI6QK34xHy3DlqSwtRLr-Cr83HMMaz_Ojv5MkgUwBGbI-fzBPIjqzzgF8tlNjW3h3R-Lh3NV0iFnfZWorPLNDCjSrBFlxuDS-AkniRzjm3TL8oT2CZfdjv7F_9sAAlidfJn2K-5AAkSMSQhjIN3xP7BMdPpK-HEIoGAdI3K5_S-pBLe0rk-NJaEYswtTcCeuVVnIXwkNafIH4DKT1xhhpCRm4MwpM-_HQkI54dD0ewl4fQwGyd_N-HQ2957JkQi0RpTD8Uo87V9F0_RDtEqGTSRe3WiRzMmL7Xkjf8SQn-NO3GhBrWlS8O-qzIOTke0QWB3eoz4UzOaGpYabYHcfAAQm6w6lwRPalAsda6ffQeU9NQ/file\n",
            "Reusing existing connection to uc533ceeae4131262cb5c7c764c3.dl.dropboxusercontent.com:443.\n",
            "HTTP request sent, awaiting response... 200 OK\n",
            "Length: 421298759 (402M) [application/zip]\n",
            "Saving to: ‘/tmp/train.zip’\n",
            "\n",
            "/tmp/train.zip      100%[===================>] 401.78M   149MB/s    in 2.7s    \n",
            "\n",
            "2021-02-14 13:04:50 (149 MB/s) - ‘/tmp/train.zip’ saved [421298759/421298759]\n",
            "\n"
          ],
          "name": "stdout"
        }
      ]
    },
    {
      "cell_type": "code",
      "metadata": {
        "colab": {
          "base_uri": "https://localhost:8080/"
        },
        "id": "xpA1ftOPDRsj",
        "outputId": "58a631ee-dff6-4e88-be05-27553cc49e76"
      },
      "source": [
        "!wget --no-check-certificate \\\n",
        "        https://www.dropbox.com/s/pnipjr7brjz1pm5/test.zip \\\n",
        "       -O /tmp/test.zip"
      ],
      "execution_count": 12,
      "outputs": [
        {
          "output_type": "stream",
          "text": [
            "--2021-02-14 13:04:50--  https://www.dropbox.com/s/pnipjr7brjz1pm5/test.zip\n",
            "Resolving www.dropbox.com (www.dropbox.com)... 162.125.4.18, 2620:100:601c:18::a27d:612\n",
            "Connecting to www.dropbox.com (www.dropbox.com)|162.125.4.18|:443... connected.\n",
            "HTTP request sent, awaiting response... 301 Moved Permanently\n",
            "Location: /s/raw/pnipjr7brjz1pm5/test.zip [following]\n",
            "--2021-02-14 13:04:50--  https://www.dropbox.com/s/raw/pnipjr7brjz1pm5/test.zip\n",
            "Reusing existing connection to www.dropbox.com:443.\n",
            "HTTP request sent, awaiting response... 302 Found\n",
            "Location: https://ucf00a867f6186b2df263acb2eec.dl.dropboxusercontent.com/cd/0/inline/BI5Abck7PnRR0QrBd1iohXlfxCF4rrUWzdqVtY2bUvRJxAPizL_rGqMK498zeRlpM7rqCog8otP7oyPLnOFwe2q5oSJqvtVBz26yoa7uyb_BoGHDUWIFb2KYG6GwRUdGqgk/file# [following]\n",
            "--2021-02-14 13:04:50--  https://ucf00a867f6186b2df263acb2eec.dl.dropboxusercontent.com/cd/0/inline/BI5Abck7PnRR0QrBd1iohXlfxCF4rrUWzdqVtY2bUvRJxAPizL_rGqMK498zeRlpM7rqCog8otP7oyPLnOFwe2q5oSJqvtVBz26yoa7uyb_BoGHDUWIFb2KYG6GwRUdGqgk/file\n",
            "Resolving ucf00a867f6186b2df263acb2eec.dl.dropboxusercontent.com (ucf00a867f6186b2df263acb2eec.dl.dropboxusercontent.com)... 162.125.6.15, 2620:100:601c:15::a27d:60f\n",
            "Connecting to ucf00a867f6186b2df263acb2eec.dl.dropboxusercontent.com (ucf00a867f6186b2df263acb2eec.dl.dropboxusercontent.com)|162.125.6.15|:443... connected.\n",
            "HTTP request sent, awaiting response... 302 Found\n",
            "Location: /cd/0/inline2/BI6zLJ9prQACrJqf2fTpbFj48KzOzHKAKNrq7oDFktG32DyoIhUXX7mWzz3itsHbcJVInsPZXo337jl4a49gGOFbT2W1VNjgyJBc8ahnIWrUms21OiWBqoiWfj9F_urPz3R6mgja0Y0T7kMlrSLmHgFX0DXy34vmemyorEZO8lS_OtkqxNZYVSmnuUJ74x7GJK5uAErjoUS8tNckwFRIHnj6Pn5IOQH_25YiE0ykpkji5rd1U_N13xRjyl_0JEUE0u2cWHhzcPgGcpoBwFiqpXEqexK0FrwNrmsKavE9oMvrk4JyOZ6jE078feYBCRKatxDhxctBhisoKInyDcAcSBH-GIfFeSJjHcZtHPka5poX_A/file [following]\n",
            "--2021-02-14 13:04:51--  https://ucf00a867f6186b2df263acb2eec.dl.dropboxusercontent.com/cd/0/inline2/BI6zLJ9prQACrJqf2fTpbFj48KzOzHKAKNrq7oDFktG32DyoIhUXX7mWzz3itsHbcJVInsPZXo337jl4a49gGOFbT2W1VNjgyJBc8ahnIWrUms21OiWBqoiWfj9F_urPz3R6mgja0Y0T7kMlrSLmHgFX0DXy34vmemyorEZO8lS_OtkqxNZYVSmnuUJ74x7GJK5uAErjoUS8tNckwFRIHnj6Pn5IOQH_25YiE0ykpkji5rd1U_N13xRjyl_0JEUE0u2cWHhzcPgGcpoBwFiqpXEqexK0FrwNrmsKavE9oMvrk4JyOZ6jE078feYBCRKatxDhxctBhisoKInyDcAcSBH-GIfFeSJjHcZtHPka5poX_A/file\n",
            "Reusing existing connection to ucf00a867f6186b2df263acb2eec.dl.dropboxusercontent.com:443.\n",
            "HTTP request sent, awaiting response... 200 OK\n",
            "Length: 105479647 (101M) [application/zip]\n",
            "Saving to: ‘/tmp/test.zip’\n",
            "\n",
            "/tmp/test.zip       100%[===================>] 100.59M   144MB/s    in 0.7s    \n",
            "\n",
            "2021-02-14 13:04:52 (144 MB/s) - ‘/tmp/test.zip’ saved [105479647/105479647]\n",
            "\n"
          ],
          "name": "stdout"
        }
      ]
    },
    {
      "cell_type": "code",
      "metadata": {
        "id": "GY3rmaxXDGW-"
      },
      "source": [
        "import zipfile\n",
        "\n",
        "with zipfile.ZipFile(\"//tmp/train.zip\", \"r\") as zip_ref:\n",
        "    zip_ref.extractall(\"/content/\")\n",
        "zip_ref.close()\n",
        "\n",
        "with zipfile.ZipFile(\"//tmp/test.zip\", \"r\") as zip_ref:\n",
        "    zip_ref.extractall(\"/content/\")\n",
        "zip_ref.close()"
      ],
      "execution_count": 13,
      "outputs": []
    },
    {
      "cell_type": "code",
      "metadata": {
        "id": "UKPQcr9rAHYc"
      },
      "source": [
        "TRAIN_DIR = '/content/train'\n",
        "TEST_DIR = '/content/test'"
      ],
      "execution_count": 14,
      "outputs": []
    },
    {
      "cell_type": "code",
      "metadata": {
        "id": "wTzZ6BLHAHYf"
      },
      "source": [
        "BATCH_SIZE = 32"
      ],
      "execution_count": 15,
      "outputs": []
    },
    {
      "cell_type": "code",
      "metadata": {
        "id": "j4xo8WQ7AHYV"
      },
      "source": [
        "from tensorflow.keras.preprocessing.image import ImageDataGenerator"
      ],
      "execution_count": 16,
      "outputs": []
    },
    {
      "cell_type": "code",
      "metadata": {
        "colab": {
          "base_uri": "https://localhost:8080/"
        },
        "id": "3iMZTEGqAHYg",
        "outputId": "08e0e84b-a0e0-489c-f151-bf8b59c93dac"
      },
      "source": [
        "train_datagen = ImageDataGenerator(rescale=1./255.,\n",
        "                                   shear_range=0.2,\n",
        "                                   zoom_range=0.2,\n",
        "                                   horizontal_flip=True,\n",
        "                                   validation_split=.2)\n",
        "\n",
        "train_generator = train_datagen.flow_from_directory(\n",
        "    directory=TRAIN_DIR, class_mode='categorical', target_size=(224, 224),\n",
        "    batch_size=BATCH_SIZE, shuffle=True, subset='training'\n",
        ")\n",
        "\n",
        "val_generator = train_datagen.flow_from_directory(\n",
        "    directory=TRAIN_DIR, class_mode='categorical', target_size=(224, 224),\n",
        "    batch_size=BATCH_SIZE, shuffle=True, subset='validation'\n",
        ")"
      ],
      "execution_count": 17,
      "outputs": [
        {
          "output_type": "stream",
          "text": [
            "Found 13210 images belonging to 32 classes.\n",
            "Found 3286 images belonging to 32 classes.\n"
          ],
          "name": "stdout"
        }
      ]
    },
    {
      "cell_type": "code",
      "metadata": {
        "colab": {
          "base_uri": "https://localhost:8080/"
        },
        "id": "jcqZ0FrVAHYk",
        "outputId": "77ec518f-a89a-431e-edaa-6670b54d8b2c"
      },
      "source": [
        "test_datagen = ImageDataGenerator(rescale=1./255.)\n",
        "\n",
        "test_generator = test_datagen.flow_from_directory(\n",
        "    directory=TEST_DIR, class_mode='categorical', target_size=(224, 224),\n",
        "    batch_size=BATCH_SIZE, shuffle=True\n",
        ")"
      ],
      "execution_count": 18,
      "outputs": [
        {
          "output_type": "stream",
          "text": [
            "Found 4142 images belonging to 32 classes.\n"
          ],
          "name": "stdout"
        }
      ]
    },
    {
      "cell_type": "code",
      "metadata": {
        "id": "ROFfOk8pMV2R"
      },
      "source": [
        "MAP_CHARACTERS = {v:k for k, v in train_generator.class_indices.items()}"
      ],
      "execution_count": 19,
      "outputs": []
    },
    {
      "cell_type": "code",
      "metadata": {
        "colab": {
          "base_uri": "https://localhost:8080/",
          "height": 35
        },
        "id": "akQfu0LmAHYm",
        "outputId": "b21bded6-cb8f-4475-a8bd-5f54a09ec792"
      },
      "source": [
        "import tensorflow as tf\n",
        "tf.__version__"
      ],
      "execution_count": 20,
      "outputs": [
        {
          "output_type": "execute_result",
          "data": {
            "application/vnd.google.colaboratory.intrinsic+json": {
              "type": "string"
            },
            "text/plain": [
              "'2.4.1'"
            ]
          },
          "metadata": {
            "tags": []
          },
          "execution_count": 20
        }
      ]
    },
    {
      "cell_type": "code",
      "metadata": {
        "id": "z0sx2mQTAHYn"
      },
      "source": [
        "tf.keras.backend.clear_session()"
      ],
      "execution_count": 21,
      "outputs": []
    },
    {
      "cell_type": "code",
      "metadata": {
        "id": "_ZnlTpoAT5Ew"
      },
      "source": [
        "model = tf.keras.models.Sequential([\n",
        "    tf.keras.layers.Conv2D(16, (3,3), activation='relu', input_shape=(224, 224, 3)),\n",
        "    tf.keras.layers.MaxPooling2D(2,2),\n",
        "    tf.keras.layers.Conv2D(32, (3,3), activation='relu'),\n",
        "    tf.keras.layers.MaxPooling2D(2,2),\n",
        "    tf.keras.layers.Flatten(),\n",
        "    tf.keras.layers.Dense(units=512, activation='relu'),\n",
        "    tf.keras.layers.Dropout(.2),\n",
        "    tf.keras.layers.Dense(units=256, activation='relu'),\n",
        "    tf.keras.layers.Dropout(.1),\n",
        "    tf.keras.layers.Dense(len(MAP_CHARACTERS), activation='softmax')\n",
        "])"
      ],
      "execution_count": 22,
      "outputs": []
    },
    {
      "cell_type": "code",
      "metadata": {
        "id": "DQ5aYZ0JAHYr"
      },
      "source": [
        "model.compile(optimizer='adam',\n",
        "              loss='categorical_crossentropy',\n",
        "              metrics=['accuracy'])"
      ],
      "execution_count": 23,
      "outputs": []
    },
    {
      "cell_type": "code",
      "metadata": {
        "colab": {
          "base_uri": "https://localhost:8080/"
        },
        "id": "2_thfNXBc1OM",
        "outputId": "d0602738-db79-4355-fff0-a56f114f7364"
      },
      "source": [
        "train_generator.samples"
      ],
      "execution_count": 24,
      "outputs": [
        {
          "output_type": "execute_result",
          "data": {
            "text/plain": [
              "13210"
            ]
          },
          "metadata": {
            "tags": []
          },
          "execution_count": 24
        }
      ]
    },
    {
      "cell_type": "code",
      "metadata": {
        "colab": {
          "base_uri": "https://localhost:8080/"
        },
        "id": "tkjXwJacAHYr",
        "outputId": "c19afe54-081b-4071-a45f-861964a27aab"
      },
      "source": [
        "model.fit(train_generator,\n",
        "          validation_data=val_generator,\n",
        "          steps_per_epoch=train_generator.samples / BATCH_SIZE,\n",
        "          epochs=10)"
      ],
      "execution_count": 25,
      "outputs": [
        {
          "output_type": "stream",
          "text": [
            "Epoch 1/10\n",
            "412/412 [==============================] - 198s 464ms/step - loss: 3.5019 - accuracy: 0.2053 - val_loss: 2.0853 - val_accuracy: 0.4410\n",
            "Epoch 2/10\n",
            "412/412 [==============================] - 190s 461ms/step - loss: 1.8526 - accuracy: 0.4795 - val_loss: 1.8394 - val_accuracy: 0.5100\n",
            "Epoch 3/10\n",
            "412/412 [==============================] - 191s 463ms/step - loss: 1.5236 - accuracy: 0.5659 - val_loss: 1.6869 - val_accuracy: 0.5338\n",
            "Epoch 4/10\n",
            "412/412 [==============================] - 191s 463ms/step - loss: 1.2996 - accuracy: 0.6254 - val_loss: 1.6087 - val_accuracy: 0.5603\n",
            "Epoch 5/10\n",
            "412/412 [==============================] - 190s 460ms/step - loss: 1.1294 - accuracy: 0.6739 - val_loss: 1.6981 - val_accuracy: 0.5764\n",
            "Epoch 6/10\n",
            "412/412 [==============================] - 189s 458ms/step - loss: 0.9836 - accuracy: 0.7196 - val_loss: 1.6434 - val_accuracy: 0.5928\n",
            "Epoch 7/10\n",
            "412/412 [==============================] - 189s 458ms/step - loss: 0.8888 - accuracy: 0.7421 - val_loss: 1.6081 - val_accuracy: 0.5989\n",
            "Epoch 8/10\n",
            "412/412 [==============================] - 189s 458ms/step - loss: 0.8111 - accuracy: 0.7598 - val_loss: 1.6127 - val_accuracy: 0.5910\n",
            "Epoch 9/10\n",
            "412/412 [==============================] - 189s 458ms/step - loss: 0.7328 - accuracy: 0.7826 - val_loss: 1.5974 - val_accuracy: 0.6126\n",
            "Epoch 10/10\n",
            "412/412 [==============================] - 189s 459ms/step - loss: 0.6629 - accuracy: 0.8083 - val_loss: 1.6786 - val_accuracy: 0.6169\n"
          ],
          "name": "stdout"
        },
        {
          "output_type": "execute_result",
          "data": {
            "text/plain": [
              "<tensorflow.python.keras.callbacks.History at 0x7f58f9d0ba58>"
            ]
          },
          "metadata": {
            "tags": []
          },
          "execution_count": 25
        }
      ]
    },
    {
      "cell_type": "code",
      "metadata": {
        "id": "gsQEtCJwo0xx",
        "outputId": "2f1a1fa0-c6c3-4c5a-c3e2-f9c24ac59240",
        "colab": {
          "base_uri": "https://localhost:8080/"
        }
      },
      "source": [
        "model.evaluate(test_generator)"
      ],
      "execution_count": 26,
      "outputs": [
        {
          "output_type": "stream",
          "text": [
            "130/130 [==============================] - 13s 98ms/step - loss: 1.1085 - accuracy: 0.7202\n"
          ],
          "name": "stdout"
        },
        {
          "output_type": "execute_result",
          "data": {
            "text/plain": [
              "[1.1084773540496826, 0.7201834917068481]"
            ]
          },
          "metadata": {
            "tags": []
          },
          "execution_count": 26
        }
      ]
    },
    {
      "cell_type": "code",
      "metadata": {
        "colab": {
          "base_uri": "https://localhost:8080/"
        },
        "id": "w2vGHscPotG0",
        "outputId": "f4e29c2b-27d9-425f-9a2d-60832b47c9ed"
      },
      "source": [
        "import os\n",
        "save_path = os.path.join(\"//content/drive/MyDrive/simpsonsnet/1/\")\n",
        "tf.saved_model.save(model, save_path)"
      ],
      "execution_count": 27,
      "outputs": [
        {
          "output_type": "stream",
          "text": [
            "INFO:tensorflow:Assets written to: //content/drive/MyDrive/simpsonsnet/1/assets\n"
          ],
          "name": "stdout"
        }
      ]
    },
    {
      "cell_type": "code",
      "metadata": {
        "id": "3SUGirWmo2VJ"
      },
      "source": [
        "save_path = os.path.join(\"//content/drive/MyDrive/simpsonsnet.h5\")\n",
        "model.save(save_path)"
      ],
      "execution_count": 28,
      "outputs": []
    }
  ]
}