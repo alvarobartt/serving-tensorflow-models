{
 "cells": [
  {
   "cell_type": "code",
   "execution_count": 1,
   "metadata": {},
   "outputs": [],
   "source": [
    "import tensorflow as tf"
   ]
  },
  {
   "cell_type": "code",
   "execution_count": 2,
   "metadata": {},
   "outputs": [],
   "source": [
    "img = tf.io.decode_image(open('../images/sample.jpg', 'rb').read(), channels=3)\n",
    "img = tf.image.resize(img, [224, 224])"
   ]
  },
  {
   "cell_type": "code",
   "execution_count": 3,
   "metadata": {},
   "outputs": [],
   "source": [
    "img = img/255."
   ]
  },
  {
   "cell_type": "code",
   "execution_count": 4,
   "metadata": {},
   "outputs": [],
   "source": [
    "image_tensor = tf.expand_dims(img, 0)\n",
    "image_tensor = image_tensor.numpy().tolist()"
   ]
  },
  {
   "cell_type": "code",
   "execution_count": 5,
   "metadata": {},
   "outputs": [
    {
     "name": "stdout",
     "output_type": "stream",
     "text": [
      "{'predictions': [[0.00112942711, 1.89338539e-06, 6.25940174e-07, 0.0102192815, 9.25596683e-11, 0.000837278785, 1.31278114e-06, 1.00998604e-05, 3.29665169e-13, 7.77766691e-05, 9.85182158e-10, 0.922698259, 8.06062089e-05, 0.0109400107, 1.43308043e-07, 0.0312022753, 1.29294483e-06, 0.00805542618, 0.0105673922, 2.42914098e-06, 0.00104467699, 0.000662887353, 0.000846361392, 2.22587715e-07, 1.64697163e-08, 4.29076272e-06, 0.00160555355, 3.81118035e-08, 1.49436534e-08, 2.88611943e-07, 8.00799604e-09, 1.01875921e-05]]}\n"
     ]
    }
   ],
   "source": [
    "import requests\n",
    "\n",
    "endpoint = \"http://localhost:8501/v1/models/simpsonsnet:predict\"\n",
    "json_data = {\"instances\": image_tensor}\n",
    "result = requests.post(endpoint, json=json_data)\n",
    "print(result.json())"
   ]
  },
  {
   "cell_type": "code",
   "execution_count": 6,
   "metadata": {},
   "outputs": [],
   "source": [
    "import numpy as np"
   ]
  },
  {
   "cell_type": "code",
   "execution_count": 7,
   "metadata": {},
   "outputs": [],
   "source": [
    "MAP_CHARACTERS = {\n",
    "    0: \"abraham_grampa_simpson\", 1: \"apu_nahasapeemapetilon\", 2: \"barney_gumble\", 3: \"bart_simpson\",\n",
    "    4: \"carl_carlson\", 5: \"charles_montgomery_burns\", 6: \"chief_wiggum\", 7: \"comic_book_guy\",\n",
    "    8: \"disco_stu\", 9: \"edna_krabappel\", 10: \"groundskeeper_willie\", 11: \"homer_simpson\",\n",
    "    12: \"kent_brockman\", 13: \"krusty_the_clown\", 14: \"lenny_leonard\", 15: \"lisa_simpson\",\n",
    "    16: \"maggie_simpson\", 17: \"marge_simpson\", 18: \"martin_prince\", 19: \"mayor_quimby\",\n",
    "    20: \"milhouse_van_houten\", 21: \"moe_szyslak\", 22: \"ned_flanders\", 23: \"nelson_muntz\",\n",
    "    24: \"patty_bouvier\", 25: \"principal_skinner\", 26: \"professor_john_frink\", 27: \"ralph_wiggum\",\n",
    "    28: \"selma_bouvier\", 29: \"sideshow_bob\", 30: \"snake_jailbird\", 31: \"waylon_smithers\"\n",
    "}"
   ]
  },
  {
   "cell_type": "code",
   "execution_count": 8,
   "metadata": {},
   "outputs": [
    {
     "name": "stdout",
     "output_type": "stream",
     "text": [
      "11\n",
      "homer_simpson\n"
     ]
    }
   ],
   "source": [
    "for prediction in result.json()['predictions']:\n",
    "    a = tf.argmax(prediction)\n",
    "    print(a.numpy())\n",
    "    print(MAP_CHARACTERS[a.numpy()])"
   ]
  }
 ],
 "metadata": {
  "kernelspec": {
   "display_name": "Python 3",
   "language": "python",
   "name": "python3"
  },
  "language_info": {
   "codemirror_mode": {
    "name": "ipython",
    "version": 3
   },
   "file_extension": ".py",
   "mimetype": "text/x-python",
   "name": "python",
   "nbconvert_exporter": "python",
   "pygments_lexer": "ipython3",
   "version": "3.8.5"
  }
 },
 "nbformat": 4,
 "nbformat_minor": 4
}
