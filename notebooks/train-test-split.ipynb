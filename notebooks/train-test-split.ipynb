{
 "cells": [
  {
   "cell_type": "markdown",
   "metadata": {},
   "source": [
    "## Script to go from the original dataset to TRAIN/TEST 80/20%"
   ]
  },
  {
   "cell_type": "code",
   "execution_count": 1,
   "metadata": {},
   "outputs": [],
   "source": [
    "import os"
   ]
  },
  {
   "cell_type": "code",
   "execution_count": 2,
   "metadata": {},
   "outputs": [],
   "source": [
    "import shutil"
   ]
  },
  {
   "cell_type": "code",
   "execution_count": 3,
   "metadata": {},
   "outputs": [],
   "source": [
    "train_split = .8\n",
    "test_split = .2"
   ]
  },
  {
   "cell_type": "code",
   "execution_count": 4,
   "metadata": {},
   "outputs": [],
   "source": [
    "from random import shuffle"
   ]
  },
  {
   "cell_type": "code",
   "execution_count": 5,
   "metadata": {},
   "outputs": [
    {
     "name": "stdout",
     "output_type": "stream",
     "text": [
      "snake_jailbird 55\n",
      "chief_wiggum 986\n",
      "ned_flanders 1454\n",
      "apu_nahasapeemapetilon 623\n",
      "ralph_wiggum 89\n",
      "professor_john_frink 65\n",
      "kent_brockman 498\n",
      "martin_prince 71\n",
      "homer_simpson 2246\n",
      "troy_mcclure 8\n",
      "comic_book_guy 469\n",
      "nelson_muntz 360\n",
      "lenny_leonard 310\n",
      "lisa_simpson 1354\n",
      "abraham_grampa_simpson 913\n",
      "fat_tony 27\n",
      "miss_hoover 17\n",
      "agnes_skinner 42\n",
      "gil 27\n",
      "marge_simpson 1291\n",
      "waylon_smithers 181\n",
      "carl_carlson 98\n",
      "sideshow_mel 40\n",
      "charles_montgomery_burns 1193\n",
      "bart_simpson 1342\n",
      "moe_szyslak 1452\n",
      "principal_skinner 1194\n",
      "patty_bouvier 72\n",
      "mayor_quimby 246\n",
      "groundskeeper_willie 121\n",
      "milhouse_van_houten 1079\n",
      "otto_mann 32\n",
      "rainier_wolfcastle 45\n",
      "sideshow_bob 877\n",
      "cletus_spuckler 47\n",
      "lionel_hutz 3\n",
      "maggie_simpson 128\n"
     ]
    }
   ],
   "source": [
    "for available_class in os.listdir(\"../dataset/original\"):\n",
    "    no_samples = len(os.listdir(f\"../dataset/original/{available_class}\"))\n",
    "    print(available_class, no_samples)\n",
    "    \n",
    "    data = os.listdir(f\"../dataset/original/{available_class}\")\n",
    "    \n",
    "    if no_samples < 50:\n",
    "        shutil.rmtree(f\"../dataset/original/{available_class}\")\n",
    "        continue\n",
    "    \n",
    "    split_value = int(len(data) * train_split)\n",
    "    shuffle(data)\n",
    "    \n",
    "    os.makedirs(os.path.dirname(f\"../dataset/train/{available_class}/\"), exist_ok=True)\n",
    "    os.makedirs(os.path.dirname(f\"../dataset/test/{available_class}/\"), exist_ok=True)\n",
    "    \n",
    "    for train_image in data[:split_value]:\n",
    "        shutil.move(f\"../dataset/original/{available_class}/{train_image}\", f\"../dataset/train/{available_class}/{train_image}\")\n",
    "        \n",
    "    for test_image in data[split_value:]:\n",
    "        shutil.move(f\"../dataset/original/{available_class}/{test_image}\", f\"../dataset/test/{available_class}/{test_image}\")"
   ]
  }
 ],
 "metadata": {
  "kernelspec": {
   "display_name": "Python 3",
   "language": "python",
   "name": "python3"
  },
  "language_info": {
   "codemirror_mode": {
    "name": "ipython",
    "version": 3
   },
   "file_extension": ".py",
   "mimetype": "text/x-python",
   "name": "python",
   "nbconvert_exporter": "python",
   "pygments_lexer": "ipython3",
   "version": "3.8.5"
  }
 },
 "nbformat": 4,
 "nbformat_minor": 4
}
